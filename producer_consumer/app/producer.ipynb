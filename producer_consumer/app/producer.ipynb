{
 "cells": [
  {
   "cell_type": "code",
   "execution_count": 3,
   "metadata": {},
   "outputs": [
    {
     "name": "stdout",
     "output_type": "stream",
     "text": [
      "The request was completed, job id: 3b920ad6-6e78-47d2-aeb7-cc5c346cf17d\n",
      "The request was completed, job id: 54ee2e19-addd-4e27-85a1-8afbf343aba2\n",
      "The request was completed, job id: bba9def7-6db5-43c4-a625-f6f201494e1c\n",
      "The request was completed, job id: 5f4783ed-3794-46e0-b27c-50afeed5b8e5\n",
      "The request was completed, job id: 1f0c5c49-98e6-46b7-939c-25227b2ca2fd\n",
      "The request was completed, job id: 7a11e769-ebcb-458a-b670-35f956e123c9\n",
      "The request was completed, job id: adfd37c0-c5b7-48ba-85fc-40dfb7fd78ef\n",
      "The request was completed, job id: 8210e172-f33c-4a0f-95e8-13c9a995ecad\n",
      "The request was completed, job id: 8cf8bd77-9db7-4a9e-8a91-a1aa83104f95\n",
      "The request was completed, job id: e97a7f21-128d-46e4-b8fa-b57b7f8cc0e3\n",
      "The request was completed, job id: 2accb682-94c8-4cbd-b354-c772cec30e57\n",
      "The request was completed, job id: 9b10a913-a427-44c4-9e6c-fa28b27294d9\n",
      "The request was completed, job id: d6c1b7b2-4134-4198-ac09-f3cb0e186b4c\n",
      "The request was completed, job id: babee352-707e-4ac5-98d0-56eec193f347\n",
      "The request was completed, job id: 80ea77d3-71de-4f36-b40a-2d7bbd2a37e5\n",
      "The request was completed, job id: c2bd54fc-aaaa-46a9-b79c-bbf006bf7026\n",
      "The request was completed, job id: 4bb6bd6f-9488-4cef-94f9-a448cafcdbb6\n",
      "The request was completed, job id: 983707b9-2df5-4eca-978c-0964b5341d6d\n",
      "The request was completed, job id: 285f6838-034a-4a11-b6f9-4044e3352976\n",
      "The request was completed, job id: 6308ea17-c675-44d1-82e1-e527a6307d46\n"
     ]
    },
    {
     "ename": "KeyboardInterrupt",
     "evalue": "",
     "output_type": "error",
     "traceback": [
      "\u001b[0;31m---------------------------------------------------------------------------\u001b[0m",
      "\u001b[0;31mKeyboardInterrupt\u001b[0m                         Traceback (most recent call last)",
      "\u001b[0;32m<ipython-input-3-01256dc6f127>\u001b[0m in \u001b[0;36m<module>\u001b[0;34m\u001b[0m\n\u001b[1;32m     29\u001b[0m \u001b[0mschedule\u001b[0m\u001b[0;34m.\u001b[0m\u001b[0mevery\u001b[0m\u001b[0;34m(\u001b[0m\u001b[0;36m1\u001b[0m\u001b[0;34m)\u001b[0m\u001b[0;34m.\u001b[0m\u001b[0mseconds\u001b[0m\u001b[0;34m.\u001b[0m\u001b[0mdo\u001b[0m\u001b[0;34m(\u001b[0m\u001b[0mproducer\u001b[0m\u001b[0;34m,\u001b[0m \u001b[0mmsg_num\u001b[0m\u001b[0;34m)\u001b[0m\u001b[0;34m\u001b[0m\u001b[0;34m\u001b[0m\u001b[0m\n\u001b[1;32m     30\u001b[0m \u001b[0;32mwhile\u001b[0m \u001b[0;32mTrue\u001b[0m\u001b[0;34m:\u001b[0m\u001b[0;34m\u001b[0m\u001b[0;34m\u001b[0m\u001b[0m\n\u001b[0;32m---> 31\u001b[0;31m    \u001b[0mschedule\u001b[0m\u001b[0;34m.\u001b[0m\u001b[0mrun_pending\u001b[0m\u001b[0;34m(\u001b[0m\u001b[0;34m)\u001b[0m\u001b[0;34m\u001b[0m\u001b[0;34m\u001b[0m\u001b[0m\n\u001b[0m\u001b[1;32m     32\u001b[0m \u001b[0;34m\u001b[0m\u001b[0m\n",
      "\u001b[0;32m/usr/local/lib/python3.8/site-packages/schedule/__init__.py\u001b[0m in \u001b[0;36mrun_pending\u001b[0;34m()\u001b[0m\n\u001b[1;32m    561\u001b[0m     \u001b[0;34m:\u001b[0m\u001b[0mdata\u001b[0m\u001b[0;34m:\u001b[0m\u001b[0;31m`\u001b[0m\u001b[0mdefault\u001b[0m \u001b[0mscheduler\u001b[0m \u001b[0minstance\u001b[0m \u001b[0;34m<\u001b[0m\u001b[0mdefault_scheduler\u001b[0m\u001b[0;34m>\u001b[0m\u001b[0;31m`\u001b[0m\u001b[0;34m.\u001b[0m\u001b[0;34m\u001b[0m\u001b[0;34m\u001b[0m\u001b[0m\n\u001b[1;32m    562\u001b[0m     \"\"\"\n\u001b[0;32m--> 563\u001b[0;31m     \u001b[0mdefault_scheduler\u001b[0m\u001b[0;34m.\u001b[0m\u001b[0mrun_pending\u001b[0m\u001b[0;34m(\u001b[0m\u001b[0;34m)\u001b[0m\u001b[0;34m\u001b[0m\u001b[0;34m\u001b[0m\u001b[0m\n\u001b[0m\u001b[1;32m    564\u001b[0m \u001b[0;34m\u001b[0m\u001b[0m\n\u001b[1;32m    565\u001b[0m \u001b[0;34m\u001b[0m\u001b[0m\n",
      "\u001b[0;32m/usr/local/lib/python3.8/site-packages/schedule/__init__.py\u001b[0m in \u001b[0;36mrun_pending\u001b[0;34m(self)\u001b[0m\n\u001b[1;32m     91\u001b[0m         \"\"\"\n\u001b[1;32m     92\u001b[0m         \u001b[0mrunnable_jobs\u001b[0m \u001b[0;34m=\u001b[0m \u001b[0;34m(\u001b[0m\u001b[0mjob\u001b[0m \u001b[0;32mfor\u001b[0m \u001b[0mjob\u001b[0m \u001b[0;32min\u001b[0m \u001b[0mself\u001b[0m\u001b[0;34m.\u001b[0m\u001b[0mjobs\u001b[0m \u001b[0;32mif\u001b[0m \u001b[0mjob\u001b[0m\u001b[0;34m.\u001b[0m\u001b[0mshould_run\u001b[0m\u001b[0;34m)\u001b[0m\u001b[0;34m\u001b[0m\u001b[0;34m\u001b[0m\u001b[0m\n\u001b[0;32m---> 93\u001b[0;31m         \u001b[0;32mfor\u001b[0m \u001b[0mjob\u001b[0m \u001b[0;32min\u001b[0m \u001b[0msorted\u001b[0m\u001b[0;34m(\u001b[0m\u001b[0mrunnable_jobs\u001b[0m\u001b[0;34m)\u001b[0m\u001b[0;34m:\u001b[0m\u001b[0;34m\u001b[0m\u001b[0;34m\u001b[0m\u001b[0m\n\u001b[0m\u001b[1;32m     94\u001b[0m             \u001b[0mself\u001b[0m\u001b[0;34m.\u001b[0m\u001b[0m_run_job\u001b[0m\u001b[0;34m(\u001b[0m\u001b[0mjob\u001b[0m\u001b[0;34m)\u001b[0m\u001b[0;34m\u001b[0m\u001b[0;34m\u001b[0m\u001b[0m\n\u001b[1;32m     95\u001b[0m \u001b[0;34m\u001b[0m\u001b[0m\n",
      "\u001b[0;31mKeyboardInterrupt\u001b[0m: "
     ]
    }
   ],
   "source": [
    "import datetime\n",
    "import json\n",
    "import schedule\n",
    "import requests as reqs\n",
    "\n",
    "def myconverter(o):\n",
    "    if isinstance(o, datetime.datetime):\n",
    "        return o.__str__()\n",
    "    \n",
    "def num_calls():\n",
    "    call = True\n",
    "    i = 0\n",
    "    while call:\n",
    "        i += 1\n",
    "        yield i\n",
    "        \n",
    "msg_num = num_calls()\n",
    "##The producer of the requests\n",
    "def producer(msg_num):\n",
    "    url = \"http://0.0.0.0:5000//consumer\"\n",
    "    headers = {'content-type': 'application/json'}\n",
    "    for i in range(0, 10):\n",
    "        start = datetime.datetime.now()\n",
    "        data = { \"msg_num\": next(msg_num), \"start\" : start}\n",
    "        result = reqs.post(url, data=json.dumps(data, default = myconverter), headers=headers)\n",
    "        print(result.json()[\"message\"])\n",
    "    \n",
    "\n",
    "schedule.every(1).seconds.do(producer, msg_num)\n",
    "while True:\n",
    "   schedule.run_pending()\n",
    "\n"
   ]
  },
  {
   "cell_type": "code",
   "execution_count": null,
   "metadata": {},
   "outputs": [],
   "source": []
  }
 ],
 "metadata": {
  "kernelspec": {
   "display_name": "Python 3",
   "language": "python",
   "name": "python3"
  },
  "language_info": {
   "codemirror_mode": {
    "name": "ipython",
    "version": 3
   },
   "file_extension": ".py",
   "mimetype": "text/x-python",
   "name": "python",
   "nbconvert_exporter": "python",
   "pygments_lexer": "ipython3",
   "version": "3.8.6"
  }
 },
 "nbformat": 4,
 "nbformat_minor": 4
}
